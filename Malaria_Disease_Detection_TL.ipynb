{
  "nbformat": 4,
  "nbformat_minor": 0,
  "metadata": {
    "colab": {
      "name": "Malaria Disease Detection TL.ipynb",
      "provenance": [],
      "collapsed_sections": [],
      "toc_visible": true
    },
    "kernelspec": {
      "name": "python3",
      "display_name": "Python 3"
    },
    "accelerator": "GPU"
  },
  "cells": [
    {
      "cell_type": "markdown",
      "metadata": {
        "id": "iIxc19qZa7di",
        "colab_type": "text"
      },
      "source": [
        "**Problem Statement**\n",
        "\n",
        "The problem is to detect wheather a given image of a cell is infected by parasite or not, if we can make a machine learning model then we can save humans by detecting and deploying Image Cells that contain Malaria or not!"
      ]
    },
    {
      "cell_type": "markdown",
      "metadata": {
        "id": "tOAhbbrTbect",
        "colab_type": "text"
      },
      "source": [
        "**Dataset**\n",
        "\n",
        "The Dataset is taken from Kaggle https://www.kaggle.com/iarunava/cell-images-for-detecting-malaria.\n",
        "The dataset contains thousands of images of both the categories with malaria and without malaria, thus the model should have a good accuracy.\n"
      ]
    },
    {
      "cell_type": "markdown",
      "metadata": {
        "id": "gn4N16GjdTiM",
        "colab_type": "text"
      },
      "source": [
        "**Technology used**\n",
        "\n",
        "For this problem we will be using Transfer Learning with ImageDataGenerator.\n",
        "Generally VGG16 and VGG19 gives the best accuracy, so here we will be using VGG16"
      ]
    },
    {
      "cell_type": "markdown",
      "metadata": {
        "id": "RGdTOiNXbxHY",
        "colab_type": "text"
      },
      "source": [
        "#Step 1 - Importing the dataset"
      ]
    },
    {
      "cell_type": "code",
      "metadata": {
        "id": "ER6UHAYyb4Pw",
        "colab_type": "code",
        "colab": {}
      },
      "source": [
        "import numpy as np\n",
        "import pandas as pd\n",
        "import matplotlib.pyplot as plt\n",
        "import tensorflow as tf\n",
        "from tensorflow.keras.layers import Input, Dense, Flatten, MaxPooling2D\n",
        "from tensorflow.keras.models import Model\n",
        "from tensorflow.keras.preprocessing import image\n",
        "from tensorflow.keras.preprocessing.image import load_img, ImageDataGenerator\n",
        "from tensorflow.keras.applications.vgg19 import VGG19,preprocess_input"
      ],
      "execution_count": 2,
      "outputs": []
    },
    {
      "cell_type": "markdown",
      "metadata": {
        "id": "iqYu6YtDcEhh",
        "colab_type": "text"
      },
      "source": [
        "# Step 2 - Defining some variables, path and constants"
      ]
    },
    {
      "cell_type": "code",
      "metadata": {
        "id": "kMl4ft08cJQx",
        "colab_type": "code",
        "colab": {}
      },
      "source": [
        "train_path = '/content/drive/My Drive/Data Science Projects/dataset_malaria_short/training_set'\n",
        "validation_path = '/content/drive/My Drive/Data Science Projects/dataset_malaria_short/test_set'\n",
        "\n",
        "IMAGE_SIZE = [264, 264] \n",
        "BATCH_SIZE = 128        \n",
        "NO_OF_TRAIN_IMAGES = 4000\n",
        "NO_OF_TEST_IMAGES = 1000"
      ],
      "execution_count": 3,
      "outputs": []
    },
    {
      "cell_type": "markdown",
      "metadata": {
        "id": "UMCyZpQscXlQ",
        "colab_type": "text"
      },
      "source": [
        "# Step 3 - Creating Image Data Generator"
      ]
    },
    {
      "cell_type": "code",
      "metadata": {
        "id": "gBhiPqr5caTY",
        "colab_type": "code",
        "colab": {
          "base_uri": "https://localhost:8080/",
          "height": 52
        },
        "outputId": "e79682d6-d68b-4ade-e733-cc454a65d619"
      },
      "source": [
        "train_gen = ImageDataGenerator (\n",
        "              rotation_range = 20, \n",
        "              width_shift_range = 0.1,\n",
        "              height_shift_range = 0.1,\n",
        "              shear_range = 0.1, \n",
        "              zoom_range = 0.2,\n",
        "              horizontal_flip = True, \n",
        "              preprocessing_function = preprocess_input    \n",
        "              ) \n",
        "test_gen = ImageDataGenerator( preprocessing_function = preprocess_input)\n",
        "\n",
        "train_set = train_gen.flow_from_directory(train_path, shuffle = True, target_size = IMAGE_SIZE, batch_size = BATCH_SIZE)\n",
        "test_set = train_gen.flow_from_directory(validation_path, target_size = IMAGE_SIZE, batch_size = BATCH_SIZE)"
      ],
      "execution_count": 4,
      "outputs": [
        {
          "output_type": "stream",
          "text": [
            "Found 4000 images belonging to 2 classes.\n",
            "Found 1000 images belonging to 2 classes.\n"
          ],
          "name": "stdout"
        }
      ]
    },
    {
      "cell_type": "markdown",
      "metadata": {
        "id": "7lqGTrOzdjTC",
        "colab_type": "text"
      },
      "source": [
        "# Step 4 - Setting up pretrained model"
      ]
    },
    {
      "cell_type": "code",
      "metadata": {
        "id": "38h9rIwddn6U",
        "colab_type": "code",
        "colab": {
          "base_uri": "https://localhost:8080/",
          "height": 52
        },
        "outputId": "44b04943-821f-42b4-ef3e-5147faac74e4"
      },
      "source": [
        "vgg19 = VGG19(input_shape = IMAGE_SIZE+[3], weights = 'imagenet', include_top = False)  #Default Image size with 3D layer of RGB, weights from imagenet and not inluding top layer as we will be making it manually\n",
        "vgg19.trainable = False                                                                 #To freeze the weights of model"
      ],
      "execution_count": 5,
      "outputs": [
        {
          "output_type": "stream",
          "text": [
            "Downloading data from https://storage.googleapis.com/tensorflow/keras-applications/vgg19/vgg19_weights_tf_dim_ordering_tf_kernels_notop.h5\n",
            "80142336/80134624 [==============================] - 1s 0us/step\n"
          ],
          "name": "stdout"
        }
      ]
    },
    {
      "cell_type": "markdown",
      "metadata": {
        "id": "IpktXwoGd5T3",
        "colab_type": "text"
      },
      "source": [
        "# Step 5 - Creating top layer and training the model\n",
        "\n"
      ]
    },
    {
      "cell_type": "code",
      "metadata": {
        "id": "bVMtn59ad9bD",
        "colab_type": "code",
        "colab": {
          "base_uri": "https://localhost:8080/",
          "height": 1000
        },
        "outputId": "c2a29b8f-9ae6-4d27-a60d-e56a23de4253"
      },
      "source": [
        "x = Flatten()(vgg19.output)\n",
        "x = Dense(2, activation = 'softmax' )(x)\n",
        "\n",
        "model = Model(inputs = vgg19.input, outputs = x)\n",
        "model.summary()\n",
        "\n",
        "model.compile (optimizer = 'adam', loss = 'categorical_crossentropy', metrics = ['accuracy'])\n",
        "\n",
        "his = model.fit(train_set, validation_data = test_set, epochs = 25,\n",
        "                            steps_per_epoch= 12, validation_steps = 6)"
      ],
      "execution_count": 6,
      "outputs": [
        {
          "output_type": "stream",
          "text": [
            "Model: \"functional_1\"\n",
            "_________________________________________________________________\n",
            "Layer (type)                 Output Shape              Param #   \n",
            "=================================================================\n",
            "input_1 (InputLayer)         [(None, 264, 264, 3)]     0         \n",
            "_________________________________________________________________\n",
            "block1_conv1 (Conv2D)        (None, 264, 264, 64)      1792      \n",
            "_________________________________________________________________\n",
            "block1_conv2 (Conv2D)        (None, 264, 264, 64)      36928     \n",
            "_________________________________________________________________\n",
            "block1_pool (MaxPooling2D)   (None, 132, 132, 64)      0         \n",
            "_________________________________________________________________\n",
            "block2_conv1 (Conv2D)        (None, 132, 132, 128)     73856     \n",
            "_________________________________________________________________\n",
            "block2_conv2 (Conv2D)        (None, 132, 132, 128)     147584    \n",
            "_________________________________________________________________\n",
            "block2_pool (MaxPooling2D)   (None, 66, 66, 128)       0         \n",
            "_________________________________________________________________\n",
            "block3_conv1 (Conv2D)        (None, 66, 66, 256)       295168    \n",
            "_________________________________________________________________\n",
            "block3_conv2 (Conv2D)        (None, 66, 66, 256)       590080    \n",
            "_________________________________________________________________\n",
            "block3_conv3 (Conv2D)        (None, 66, 66, 256)       590080    \n",
            "_________________________________________________________________\n",
            "block3_conv4 (Conv2D)        (None, 66, 66, 256)       590080    \n",
            "_________________________________________________________________\n",
            "block3_pool (MaxPooling2D)   (None, 33, 33, 256)       0         \n",
            "_________________________________________________________________\n",
            "block4_conv1 (Conv2D)        (None, 33, 33, 512)       1180160   \n",
            "_________________________________________________________________\n",
            "block4_conv2 (Conv2D)        (None, 33, 33, 512)       2359808   \n",
            "_________________________________________________________________\n",
            "block4_conv3 (Conv2D)        (None, 33, 33, 512)       2359808   \n",
            "_________________________________________________________________\n",
            "block4_conv4 (Conv2D)        (None, 33, 33, 512)       2359808   \n",
            "_________________________________________________________________\n",
            "block4_pool (MaxPooling2D)   (None, 16, 16, 512)       0         \n",
            "_________________________________________________________________\n",
            "block5_conv1 (Conv2D)        (None, 16, 16, 512)       2359808   \n",
            "_________________________________________________________________\n",
            "block5_conv2 (Conv2D)        (None, 16, 16, 512)       2359808   \n",
            "_________________________________________________________________\n",
            "block5_conv3 (Conv2D)        (None, 16, 16, 512)       2359808   \n",
            "_________________________________________________________________\n",
            "block5_conv4 (Conv2D)        (None, 16, 16, 512)       2359808   \n",
            "_________________________________________________________________\n",
            "block5_pool (MaxPooling2D)   (None, 8, 8, 512)         0         \n",
            "_________________________________________________________________\n",
            "flatten (Flatten)            (None, 32768)             0         \n",
            "_________________________________________________________________\n",
            "dense (Dense)                (None, 2)                 65538     \n",
            "=================================================================\n",
            "Total params: 20,089,922\n",
            "Trainable params: 65,538\n",
            "Non-trainable params: 20,024,384\n",
            "_________________________________________________________________\n",
            "Epoch 1/25\n",
            "12/12 [==============================] - 1707s 142s/step - loss: 11.5389 - accuracy: 0.6125 - val_loss: 3.8703 - val_accuracy: 0.8099\n",
            "Epoch 2/25\n",
            "12/12 [==============================] - 739s 62s/step - loss: 2.9356 - accuracy: 0.8405 - val_loss: 3.4945 - val_accuracy: 0.8411\n",
            "Epoch 3/25\n",
            "12/12 [==============================] - 392s 33s/step - loss: 1.3706 - accuracy: 0.9090 - val_loss: 2.5198 - val_accuracy: 0.8568\n",
            "Epoch 4/25\n",
            "12/12 [==============================] - 259s 22s/step - loss: 0.9633 - accuracy: 0.9297 - val_loss: 2.3023 - val_accuracy: 0.8698\n",
            "Epoch 5/25\n",
            "12/12 [==============================] - 179s 15s/step - loss: 1.0613 - accuracy: 0.9147 - val_loss: 2.5706 - val_accuracy: 0.8867\n",
            "Epoch 6/25\n",
            "12/12 [==============================] - 174s 14s/step - loss: 1.2245 - accuracy: 0.9193 - val_loss: 1.9815 - val_accuracy: 0.8958\n",
            "Epoch 7/25\n",
            "12/12 [==============================] - 95s 8s/step - loss: 1.0556 - accuracy: 0.9251 - val_loss: 2.0531 - val_accuracy: 0.8893\n",
            "Epoch 8/25\n",
            "12/12 [==============================] - 70s 6s/step - loss: 0.6749 - accuracy: 0.9382 - val_loss: 2.4995 - val_accuracy: 0.8646\n",
            "Epoch 9/25\n",
            "12/12 [==============================] - 69s 6s/step - loss: 0.7997 - accuracy: 0.9434 - val_loss: 2.7557 - val_accuracy: 0.8438\n",
            "Epoch 10/25\n",
            "12/12 [==============================] - 62s 5s/step - loss: 0.9456 - accuracy: 0.9219 - val_loss: 2.7066 - val_accuracy: 0.8464\n",
            "Epoch 11/25\n",
            "12/12 [==============================] - 57s 5s/step - loss: 0.9621 - accuracy: 0.9347 - val_loss: 1.8577 - val_accuracy: 0.9076\n",
            "Epoch 12/25\n",
            "12/12 [==============================] - 53s 4s/step - loss: 0.6769 - accuracy: 0.9492 - val_loss: 1.6969 - val_accuracy: 0.9062\n",
            "Epoch 13/25\n",
            "12/12 [==============================] - 51s 4s/step - loss: 0.8297 - accuracy: 0.9368 - val_loss: 1.6008 - val_accuracy: 0.9023\n",
            "Epoch 14/25\n",
            "12/12 [==============================] - 51s 4s/step - loss: 0.5885 - accuracy: 0.9531 - val_loss: 2.5432 - val_accuracy: 0.8685\n",
            "Epoch 15/25\n",
            "12/12 [==============================] - 51s 4s/step - loss: 0.5839 - accuracy: 0.9486 - val_loss: 1.4649 - val_accuracy: 0.9089\n",
            "Epoch 16/25\n",
            "12/12 [==============================] - 51s 4s/step - loss: 0.7166 - accuracy: 0.9408 - val_loss: 2.8064 - val_accuracy: 0.8346\n",
            "Epoch 17/25\n",
            "12/12 [==============================] - 51s 4s/step - loss: 0.6941 - accuracy: 0.9479 - val_loss: 1.9881 - val_accuracy: 0.8932\n",
            "Epoch 18/25\n",
            "12/12 [==============================] - 50s 4s/step - loss: 0.5816 - accuracy: 0.9453 - val_loss: 2.9406 - val_accuracy: 0.8307\n",
            "Epoch 19/25\n",
            "12/12 [==============================] - 50s 4s/step - loss: 0.5170 - accuracy: 0.9518 - val_loss: 2.4260 - val_accuracy: 0.8711\n",
            "Epoch 20/25\n",
            "12/12 [==============================] - 50s 4s/step - loss: 0.4853 - accuracy: 0.9564 - val_loss: 1.5339 - val_accuracy: 0.8906\n",
            "Epoch 21/25\n",
            "12/12 [==============================] - 50s 4s/step - loss: 0.6608 - accuracy: 0.9434 - val_loss: 1.8009 - val_accuracy: 0.8971\n",
            "Epoch 22/25\n",
            "12/12 [==============================] - 48s 4s/step - loss: 0.5203 - accuracy: 0.9556 - val_loss: 1.9394 - val_accuracy: 0.8880\n",
            "Epoch 23/25\n",
            "12/12 [==============================] - 50s 4s/step - loss: 0.6854 - accuracy: 0.9375 - val_loss: 3.5007 - val_accuracy: 0.8203\n",
            "Epoch 24/25\n",
            "12/12 [==============================] - 49s 4s/step - loss: 0.7502 - accuracy: 0.9460 - val_loss: 1.7584 - val_accuracy: 0.9076\n",
            "Epoch 25/25\n",
            "12/12 [==============================] - 49s 4s/step - loss: 0.6577 - accuracy: 0.9570 - val_loss: 2.6460 - val_accuracy: 0.8672\n"
          ],
          "name": "stdout"
        }
      ]
    },
    {
      "cell_type": "markdown",
      "metadata": {
        "id": "UXyo19QTeGD5",
        "colab_type": "text"
      },
      "source": [
        "# Step 6 - Plotting Loss and Accuracy"
      ]
    },
    {
      "cell_type": "code",
      "metadata": {
        "id": "IF6Qb9NneITt",
        "colab_type": "code",
        "colab": {
          "base_uri": "https://localhost:8080/",
          "height": 285
        },
        "outputId": "d65e069b-653a-4eb0-d6d6-d7e3d43969c9"
      },
      "source": [
        "#Plotting Loss\n",
        "\n",
        "plt.plot(his.history['loss'], label = 'loss')\n",
        "plt.plot(his.history['val_loss'], label = 'Valdation loss')\n",
        "plt.legend()\n",
        "\n"
      ],
      "execution_count": 7,
      "outputs": [
        {
          "output_type": "execute_result",
          "data": {
            "text/plain": [
              "<matplotlib.legend.Legend at 0x7f30ed192b70>"
            ]
          },
          "metadata": {
            "tags": []
          },
          "execution_count": 7
        },
        {
          "output_type": "display_data",
          "data": {
            "image/png": "[encoded data removed]",
            "text/plain": [
              "<Figure size 432x288 with 1 Axes>"
            ]
          },
          "metadata": {
            "tags": [],
            "needs_background": "light"
          }
        }
      ]
    },
    {
      "cell_type": "code",
      "metadata": {
        "id": "S4BjzBPMeJ00",
        "colab_type": "code",
        "colab": {
          "base_uri": "https://localhost:8080/",
          "height": 264
        },
        "outputId": "32818fb2-ccbe-43ed-ebba-76606ded7ade"
      },
      "source": [
        "# Plot accuracy per iteration\n",
        "\n",
        "plt.plot(his.history['accuracy'], label='Accuracy')\n",
        "plt.plot(his.history['val_accuracy'], label='Validation Accuracy')\n",
        "plt.legend()\n",
        "plt.show()"
      ],
      "execution_count": 8,
      "outputs": [
        {
          "output_type": "display_data",
          "data": {
            "image/png": "[encoded data removed]",
            "text/plain": [
              "<Figure size 432x288 with 1 Axes>"
            ]
          },
          "metadata": {
            "tags": [],
            "needs_background": "light"
          }
        }
      ]
    },
    {
      "cell_type": "markdown",
      "metadata": {
        "id": "3QZxGMhseSnq",
        "colab_type": "text"
      },
      "source": [
        "# Step 7 - Saving the model"
      ]
    },
    {
      "cell_type": "code",
      "metadata": {
        "id": "wB9M9U5aeUvz",
        "colab_type": "code",
        "colab": {}
      },
      "source": [
        "model.save_weights('model', save_format = 'h5') # Saving model weights\n",
        "\n",
        "import json\n",
        "\n",
        "with open('model_config.json', 'w') as file:\n",
        "  file.write(model.to_json())                   # Saving model config file"
      ],
      "execution_count": 9,
      "outputs": []
    },
    {
      "cell_type": "markdown",
      "metadata": {
        "id": "uyt1AN2vf8V7",
        "colab_type": "text"
      },
      "source": [
        "# Step 8 - Predicting a single image to check the model"
      ]
    },
    {
      "cell_type": "code",
      "metadata": {
        "id": "tDF4NcJdf-tc",
        "colab_type": "code",
        "colab": {
          "base_uri": "https://localhost:8080/",
          "height": 52
        },
        "outputId": "17b5e445-7d91-4dfe-bc12-1409b0f0f924"
      },
      "source": [
        "# Predicted a singe Image\n",
        "\n",
        "test_image = image.load_img('/content/drive/My Drive/Data Science Projects/test2p.png', target_size = (264, 264))\n",
        "test_image = image.img_to_array(test_image)\n",
        "test_image = preprocess_input(test_image)\n",
        "test_image = np.expand_dims(test_image, axis=0) #Since model expects a batch dimension\n",
        "                                                #which is the first dimension of image\n",
        "\n",
        "result = model.predict(test_image)\n",
        "print(result)\n",
        "result = result.argmax(axis = 1)[0]\n",
        "\n",
        "if(result==0):\n",
        "  print('Its a Parasite')\n",
        "else:\n",
        "  print('its Uninfected')"
      ],
      "execution_count": 11,
      "outputs": [
        {
          "output_type": "stream",
          "text": [
            "[[9.9999857e-01 1.4330519e-06]]\n",
            "Its a Parasite\n"
          ],
          "name": "stdout"
        }
      ]
    },
    {
      "cell_type": "markdown",
      "metadata": {
        "id": "t3VMZgDw88QS",
        "colab_type": "text"
      },
      "source": [
        "**Conclusion**\n",
        "\n",
        "The model gives approximately 90% accuracy which is a good accuracy for this kind of problem, thus the model is successful.\n",
        "\n"
      ]
    }
  ]
}